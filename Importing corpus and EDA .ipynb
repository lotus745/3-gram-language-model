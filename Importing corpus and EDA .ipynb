{
 "cells": [
  {
   "cell_type": "code",
   "execution_count": 59,
   "metadata": {
    "collapsed": false
   },
   "outputs": [],
   "source": [
    "from wiki_dump_reader import Cleaner, iterate\n",
    "\n",
    "#https://github.com/CyberZHG/wiki-dump-reader\n",
    "#pip install wiki-dump-reader\n",
    "#Code adapted from https://github.com/CyberZHG/wiki-dump-reader\n",
    "def write_corpus():\n",
    "    corpus_file = 'D:/Text Analytics/MRcorpus.txt'\n",
    "    page_count = 0\n",
    "    cleaner = Cleaner()\n",
    "    with open(corpus_file, 'w', encoding='utf-8') as output:\n",
    "        for title, text in iterate('D:/Text Analytics/mrwiki-latest-pages-articles.xml'):\n",
    "            text = cleaner.clean_text(text)\n",
    "            cleaned_text, links = cleaner.build_links(text)\n",
    "            output.write(title + '\\n' + cleaned_text + '\\n')\n",
    "            page_count += 1\n",
    "#            if page_count % 100 == 0:\n",
    "#                print('Pages dumped = ', page_count)\n",
    "\n",
    "    output.close()\n",
    "write_corpus()"
   ]
  },
  {
   "cell_type": "code",
   "execution_count": 60,
   "metadata": {
    "collapsed": true
   },
   "outputs": [],
   "source": [
    " f = open('D:/Text Analytics/MRcorpus.txt',encoding = \"utf8\")"
   ]
  },
  {
   "cell_type": "code",
   "execution_count": 61,
   "metadata": {
    "collapsed": false
   },
   "outputs": [],
   "source": [
    "txt_dt = f.read()"
   ]
  },
  {
   "cell_type": "code",
   "execution_count": 62,
   "metadata": {
    "collapsed": false
   },
   "outputs": [
    {
     "data": {
      "text/plain": [
       "'औदुंबर (कविता)\\n॥ औदुंबर रसग्रहण ॥\\nएखाद्या कुशल चित्रकाराने कुंचल्याच्या अवघ्या चार-सहा फटकाऱ्यांसरशी एखादे सुरेख चित्र निर्माण करावे तद्वत अवघ्या आठ ओळीत बालकवींनी एक सुंदर निसर्गचित्र शब्दांच्या कुंचल्याने या कवितेत रेखाटलेले आहे.  हे चित्र रंगविताना कवीने विविध रंग वापरलेले आढळतील. निळासावळा झरा, शेतमळ्यांची हिरवी गरदी, पांढरी पायवाट व काळा डोह-मोजक्या रंगांनी शब्दांच्या चौकटीत बसविलेले हे एक साधे व जिवंत चित्र आहे.  बालकवींची रंगदृष्टी येथे आपल्या प्रत्ययास येते.\\nपहिल्या चार ओळींत टेकड्या, गा'"
      ]
     },
     "execution_count": 62,
     "metadata": {},
     "output_type": "execute_result"
    }
   ],
   "source": [
    "txt_dt[0:500]"
   ]
  },
  {
   "cell_type": "code",
   "execution_count": 63,
   "metadata": {
    "collapsed": true
   },
   "outputs": [],
   "source": [
    "import re\n",
    "import copy"
   ]
  },
  {
   "cell_type": "code",
   "execution_count": 64,
   "metadata": {
    "collapsed": false
   },
   "outputs": [],
   "source": [
    "copy_txt = copy.deepcopy(txt_dt)"
   ]
  },
  {
   "cell_type": "code",
   "execution_count": 65,
   "metadata": {
    "collapsed": true
   },
   "outputs": [],
   "source": [
    "only_mr_pun = re.sub(r\"[^\\u0900-\\u097F, \\u0021, \\u0022, \\u0027, \\u002C, \\u002E, \\u003A, \\u003B, \\u003F]+\", \" \", txt_dt)"
   ]
  },
  {
   "cell_type": "code",
   "execution_count": 66,
   "metadata": {
    "collapsed": false
   },
   "outputs": [
    {
     "data": {
      "text/plain": [
       "'औदुंबर  कविता ॥ औदुंबर रसग्रहण ॥ एखाद्या कुशल चित्रकाराने कुंचल्याच्या अवघ्या चार सहा फटकाऱ्यांसरशी एखादे सुरेख चित्र निर्माण करावे तद्वत अवघ्या आठ ओळीत बालकवींनी एक सुंदर निसर्गचित्र शब्दांच्या कुंचल्याने या कवितेत रेखाटलेले आहे.  हे चित्र रंगविताना कवीने विविध रंग वापरलेले आढळतील. निळासावळा झरा, शेतमळ्यांची हिरवी गरदी, पांढरी पायवाट व काळा डोह मोजक्या रंगांनी शब्दांच्या चौकटीत बसविलेले हे एक साधे व जिवंत चित्र आहे.  बालकवींची रंगदृष्टी येथे आपल्या प्रत्ययास येते. पहिल्या चार ओळींत टेकड्या, गाव'"
      ]
     },
     "execution_count": 66,
     "metadata": {},
     "output_type": "execute_result"
    }
   ],
   "source": [
    "only_mr_pun[0:500]"
   ]
  },
  {
   "cell_type": "code",
   "execution_count": 67,
   "metadata": {
    "collapsed": true
   },
   "outputs": [],
   "source": [
    "only_mr = re.sub(r\"[^\\u0900-\\u097F]+\", \" \", txt_dt)"
   ]
  },
  {
   "cell_type": "code",
   "execution_count": 68,
   "metadata": {
    "collapsed": false
   },
   "outputs": [
    {
     "data": {
      "text/plain": [
       "'औदुंबर कविता ॥ औदुंबर रसग्रहण ॥ एखाद्या कुशल चित्रकाराने कुंचल्याच्या अवघ्या चार सहा फटकाऱ्यांसरशी एखादे सुरेख चित्र निर्माण करावे तद्वत अवघ्या आठ ओळीत बालकवींनी एक सुंदर निसर्गचित्र शब्दांच्या कुंचल्याने या कवितेत रेखाटलेले आहे हे चित्र रंगविताना कवीने विविध रंग वापरलेले आढळतील निळासावळा झरा शेतमळ्यांची हिरवी गरदी पांढरी पायवाट व काळा डोह मोजक्या रंगांनी शब्दांच्या चौकटीत बसविलेले हे एक साधे व जिवंत चित्र आहे बालकवींची रंगदृष्टी येथे आपल्या प्रत्ययास येते पहिल्या चार ओळींत टेकड्या गाव शेतमळे व '"
      ]
     },
     "execution_count": 68,
     "metadata": {},
     "output_type": "execute_result"
    }
   ],
   "source": [
    "only_mr[0:500]"
   ]
  },
  {
   "cell_type": "code",
   "execution_count": 69,
   "metadata": {
    "collapsed": false
   },
   "outputs": [
    {
     "data": {
      "text/plain": [
       "56225453"
      ]
     },
     "execution_count": 69,
     "metadata": {},
     "output_type": "execute_result"
    }
   ],
   "source": [
    "len(only_mr)"
   ]
  },
  {
   "cell_type": "code",
   "execution_count": 70,
   "metadata": {
    "collapsed": true
   },
   "outputs": [],
   "source": [
    "words = only_mr.split()"
   ]
  },
  {
   "cell_type": "code",
   "execution_count": 71,
   "metadata": {
    "collapsed": false
   },
   "outputs": [
    {
     "data": {
      "text/plain": [
       "['औदुंबर', 'कविता', '॥', 'औदुंबर', 'रसग्रहण']"
      ]
     },
     "execution_count": 71,
     "metadata": {},
     "output_type": "execute_result"
    }
   ],
   "source": [
    "words[0:5]"
   ]
  },
  {
   "cell_type": "code",
   "execution_count": 72,
   "metadata": {
    "collapsed": true
   },
   "outputs": [],
   "source": [
    "frequency = {}"
   ]
  },
  {
   "cell_type": "code",
   "execution_count": 73,
   "metadata": {
    "collapsed": false
   },
   "outputs": [],
   "source": [
    "for word in words:\n",
    "    count = frequency.get(word,0)\n",
    "    frequency[word] = count + 1"
   ]
  },
  {
   "cell_type": "code",
   "execution_count": 74,
   "metadata": {
    "collapsed": false
   },
   "outputs": [
    {
     "data": {
      "text/plain": [
       "2458"
      ]
     },
     "execution_count": 74,
     "metadata": {},
     "output_type": "execute_result"
    }
   ],
   "source": [
    "frequency['चित्र']"
   ]
  },
  {
   "cell_type": "code",
   "execution_count": 75,
   "metadata": {
    "collapsed": true
   },
   "outputs": [],
   "source": [
    "uni_words = set(words)"
   ]
  },
  {
   "cell_type": "code",
   "execution_count": 76,
   "metadata": {
    "collapsed": false
   },
   "outputs": [],
   "source": [
    "#counts = [(w,words.count(w)) for w in uni_words]\n",
    "#counts[0:10]"
   ]
  },
  {
   "cell_type": "code",
   "execution_count": 77,
   "metadata": {
    "collapsed": false
   },
   "outputs": [
    {
     "data": {
      "text/plain": [
       "8483808"
      ]
     },
     "execution_count": 77,
     "metadata": {},
     "output_type": "execute_result"
    }
   ],
   "source": [
    "len(words)"
   ]
  },
  {
   "cell_type": "code",
   "execution_count": 78,
   "metadata": {
    "collapsed": true
   },
   "outputs": [],
   "source": [
    "import numpy as np"
   ]
  },
  {
   "cell_type": "code",
   "execution_count": 79,
   "metadata": {
    "collapsed": false
   },
   "outputs": [],
   "source": [
    "freq_desc = sorted(frequency.items(), key = lambda kv:(kv[1], kv[0]), reverse = True) "
   ]
  },
  {
   "cell_type": "code",
   "execution_count": 80,
   "metadata": {
    "collapsed": false
   },
   "outputs": [
    {
     "data": {
      "text/plain": [
       "{'अंतरावर': 8744,\n",
       " 'अनेक': 12535,\n",
       " 'असते': 9500,\n",
       " 'असून': 10749,\n",
       " 'असे': 18433,\n",
       " 'आणि': 89856,\n",
       " 'आले': 10310,\n",
       " 'आहे': 127801,\n",
       " 'आहेत': 35065,\n",
       " 'इ': 58189,\n",
       " 'इतर': 7657,\n",
       " 'उपलब्ध': 9345,\n",
       " 'एक': 42084,\n",
       " 'एका': 8497,\n",
       " 'करण्यात': 7629,\n",
       " 'करून': 11146,\n",
       " 'काम': 8349,\n",
       " 'काही': 12872,\n",
       " 'किंवा': 12048,\n",
       " 'केला': 11979,\n",
       " 'केली': 18219,\n",
       " 'केले': 29212,\n",
       " 'क्रिकेट': 12844,\n",
       " 'खेळाडू': 10158,\n",
       " 'गावात': 10526,\n",
       " 'चरित्रलेख': 7760,\n",
       " 'चित्रपट': 12150,\n",
       " 'च्या': 17491,\n",
       " 'जन्म': 16146,\n",
       " 'जाते': 13532,\n",
       " 'जास्त': 7729,\n",
       " 'जिल्हा': 8584,\n",
       " 'जी': 9157,\n",
       " 'झाला': 13600,\n",
       " 'झाली': 11463,\n",
       " 'झाले': 14793,\n",
       " 'डॉ': 8514,\n",
       " 'तर': 13533,\n",
       " 'तसेच': 11318,\n",
       " 'ते': 32051,\n",
       " 'तो': 8742,\n",
       " 'त्या': 13152,\n",
       " 'त्यांच्या': 10794,\n",
       " 'त्यांना': 7790,\n",
       " 'त्यांनी': 17547,\n",
       " 'दुवे': 11866,\n",
       " 'दोन': 9800,\n",
       " 'नाव': 11185,\n",
       " 'नाही': 20650,\n",
       " 'पण': 8009,\n",
       " 'पहा': 7853,\n",
       " 'पुणे': 7585,\n",
       " 'पुनर्निर्देशन': 41169,\n",
       " 'पुरस्कार': 13634,\n",
       " 'पुरुष': 8637,\n",
       " 'बाह्य': 11384,\n",
       " 'भारतीय': 23660,\n",
       " 'भोपाळ': 22820,\n",
       " 'मतदारसंघ': 8342,\n",
       " 'मधील': 17677,\n",
       " 'मध्ये': 26785,\n",
       " 'मराठी': 21488,\n",
       " 'महाराष्ट्र': 9670,\n",
       " 'मृत्यू': 9177,\n",
       " 'म्हणजे': 8445,\n",
       " 'म्हणून': 18045,\n",
       " 'या': 85627,\n",
       " 'यांच्या': 8376,\n",
       " 'यांनी': 13044,\n",
       " 'याला': 17031,\n",
       " 'येथे': 18602,\n",
       " 'राज्य': 11663,\n",
       " 'राष्ट्रीय': 9791,\n",
       " 'रोजी': 7972,\n",
       " 'लोकसभा': 9741,\n",
       " 'व': 74015,\n",
       " 'वर्षे': 9369,\n",
       " 'शहर': 9814,\n",
       " 'स': 59744,\n",
       " 'संदर्भ': 12303,\n",
       " 'सर्व': 7907,\n",
       " 'सर्वात': 12052,\n",
       " 'साली': 11679,\n",
       " 'साहित्य': 9739,\n",
       " 'स्थापना': 7786,\n",
       " 'हा': 43898,\n",
       " 'ही': 31999,\n",
       " 'हे': 63720,\n",
       " 'होता': 14768,\n",
       " 'होती': 11764,\n",
       " 'होते': 31982,\n",
       " 'ह्या': 12881,\n",
       " '॥': 12044,\n",
       " '०': 8597,\n",
       " '१': 23206,\n",
       " '१०': 10855,\n",
       " '२': 16421,\n",
       " '३': 11447,\n",
       " '४': 8148,\n",
       " '५': 10047}"
      ]
     },
     "execution_count": 80,
     "metadata": {},
     "output_type": "execute_result"
    }
   ],
   "source": [
    "dict(freq_desc[0:100])"
   ]
  },
  {
   "cell_type": "code",
   "execution_count": 81,
   "metadata": {
    "collapsed": false
   },
   "outputs": [],
   "source": [
    "s = dict(freq_desc).values()\n",
    "s = np.array(s)"
   ]
  },
  {
   "cell_type": "code",
   "execution_count": 82,
   "metadata": {
    "collapsed": false
   },
   "outputs": [],
   "source": [
    "import pandas as pd"
   ]
  },
  {
   "cell_type": "code",
   "execution_count": 83,
   "metadata": {
    "collapsed": true
   },
   "outputs": [],
   "source": [
    "all_freqs_wrds = pd.DataFrame.from_dict(frequency, orient='index').reset_index()"
   ]
  },
  {
   "cell_type": "code",
   "execution_count": 84,
   "metadata": {
    "collapsed": false
   },
   "outputs": [
    {
     "data": {
      "text/html": [
       "<div>\n",
       "<style scoped>\n",
       "    .dataframe tbody tr th:only-of-type {\n",
       "        vertical-align: middle;\n",
       "    }\n",
       "\n",
       "    .dataframe tbody tr th {\n",
       "        vertical-align: top;\n",
       "    }\n",
       "\n",
       "    .dataframe thead th {\n",
       "        text-align: right;\n",
       "    }\n",
       "</style>\n",
       "<table border=\"1\" class=\"dataframe\">\n",
       "  <thead>\n",
       "    <tr style=\"text-align: right;\">\n",
       "      <th></th>\n",
       "      <th>index</th>\n",
       "      <th>0</th>\n",
       "    </tr>\n",
       "  </thead>\n",
       "  <tbody>\n",
       "    <tr>\n",
       "      <th>0</th>\n",
       "      <td>तर्हांचे</td>\n",
       "      <td>2</td>\n",
       "    </tr>\n",
       "    <tr>\n",
       "      <th>1</th>\n",
       "      <td>पोटनिवडणुकांमध्ये</td>\n",
       "      <td>1</td>\n",
       "    </tr>\n",
       "    <tr>\n",
       "      <th>2</th>\n",
       "      <td>अष्टांग</td>\n",
       "      <td>39</td>\n",
       "    </tr>\n",
       "    <tr>\n",
       "      <th>3</th>\n",
       "      <td>अर्पानेट</td>\n",
       "      <td>4</td>\n",
       "    </tr>\n",
       "    <tr>\n",
       "      <th>4</th>\n",
       "      <td>यावेळेसपासुन</td>\n",
       "      <td>1</td>\n",
       "    </tr>\n",
       "  </tbody>\n",
       "</table>\n",
       "</div>"
      ],
      "text/plain": [
       "               index   0\n",
       "0           तर्हांचे   2\n",
       "1  पोटनिवडणुकांमध्ये   1\n",
       "2            अष्टांग  39\n",
       "3           अर्पानेट   4\n",
       "4       यावेळेसपासुन   1"
      ]
     },
     "execution_count": 84,
     "metadata": {},
     "output_type": "execute_result"
    }
   ],
   "source": [
    "all_freqs_wrds.head()"
   ]
  },
  {
   "cell_type": "code",
   "execution_count": 85,
   "metadata": {
    "collapsed": true
   },
   "outputs": [],
   "source": [
    "all_freqs_wrds = all_freqs_wrds.rename(columns={'index':'terms', 0:'count'})"
   ]
  },
  {
   "cell_type": "code",
   "execution_count": 86,
   "metadata": {
    "collapsed": true
   },
   "outputs": [],
   "source": [
    "all_freqs_wrds.sort_values(by = 'count', ascending = False, inplace = True)"
   ]
  },
  {
   "cell_type": "code",
   "execution_count": 87,
   "metadata": {
    "collapsed": true
   },
   "outputs": [],
   "source": [
    "all_freqs_wrds = all_freqs_wrds.reset_index(drop=True)"
   ]
  },
  {
   "cell_type": "code",
   "execution_count": 88,
   "metadata": {
    "collapsed": false
   },
   "outputs": [
    {
     "data": {
      "text/html": [
       "<div>\n",
       "<style scoped>\n",
       "    .dataframe tbody tr th:only-of-type {\n",
       "        vertical-align: middle;\n",
       "    }\n",
       "\n",
       "    .dataframe tbody tr th {\n",
       "        vertical-align: top;\n",
       "    }\n",
       "\n",
       "    .dataframe thead th {\n",
       "        text-align: right;\n",
       "    }\n",
       "</style>\n",
       "<table border=\"1\" class=\"dataframe\">\n",
       "  <thead>\n",
       "    <tr style=\"text-align: right;\">\n",
       "      <th></th>\n",
       "      <th>terms</th>\n",
       "      <th>count</th>\n",
       "    </tr>\n",
       "  </thead>\n",
       "  <tbody>\n",
       "    <tr>\n",
       "      <th>0</th>\n",
       "      <td>आहे</td>\n",
       "      <td>127801</td>\n",
       "    </tr>\n",
       "    <tr>\n",
       "      <th>1</th>\n",
       "      <td>आणि</td>\n",
       "      <td>89856</td>\n",
       "    </tr>\n",
       "    <tr>\n",
       "      <th>2</th>\n",
       "      <td>या</td>\n",
       "      <td>85627</td>\n",
       "    </tr>\n",
       "    <tr>\n",
       "      <th>3</th>\n",
       "      <td>व</td>\n",
       "      <td>74015</td>\n",
       "    </tr>\n",
       "    <tr>\n",
       "      <th>4</th>\n",
       "      <td>हे</td>\n",
       "      <td>63720</td>\n",
       "    </tr>\n",
       "    <tr>\n",
       "      <th>5</th>\n",
       "      <td>स</td>\n",
       "      <td>59744</td>\n",
       "    </tr>\n",
       "    <tr>\n",
       "      <th>6</th>\n",
       "      <td>इ</td>\n",
       "      <td>58189</td>\n",
       "    </tr>\n",
       "    <tr>\n",
       "      <th>7</th>\n",
       "      <td>हा</td>\n",
       "      <td>43898</td>\n",
       "    </tr>\n",
       "    <tr>\n",
       "      <th>8</th>\n",
       "      <td>एक</td>\n",
       "      <td>42084</td>\n",
       "    </tr>\n",
       "    <tr>\n",
       "      <th>9</th>\n",
       "      <td>पुनर्निर्देशन</td>\n",
       "      <td>41169</td>\n",
       "    </tr>\n",
       "  </tbody>\n",
       "</table>\n",
       "</div>"
      ],
      "text/plain": [
       "           terms   count\n",
       "0            आहे  127801\n",
       "1            आणि   89856\n",
       "2             या   85627\n",
       "3              व   74015\n",
       "4             हे   63720\n",
       "5              स   59744\n",
       "6              इ   58189\n",
       "7             हा   43898\n",
       "8             एक   42084\n",
       "9  पुनर्निर्देशन   41169"
      ]
     },
     "execution_count": 88,
     "metadata": {},
     "output_type": "execute_result"
    }
   ],
   "source": [
    "all_freqs_wrds.head(10)"
   ]
  },
  {
   "cell_type": "code",
   "execution_count": 89,
   "metadata": {
    "collapsed": false
   },
   "outputs": [
    {
     "data": {
      "text/html": [
       "<div>\n",
       "<style scoped>\n",
       "    .dataframe tbody tr th:only-of-type {\n",
       "        vertical-align: middle;\n",
       "    }\n",
       "\n",
       "    .dataframe tbody tr th {\n",
       "        vertical-align: top;\n",
       "    }\n",
       "\n",
       "    .dataframe thead th {\n",
       "        text-align: right;\n",
       "    }\n",
       "</style>\n",
       "<table border=\"1\" class=\"dataframe\">\n",
       "  <thead>\n",
       "    <tr style=\"text-align: right;\">\n",
       "      <th></th>\n",
       "      <th>terms</th>\n",
       "      <th>count</th>\n",
       "      <th>rank</th>\n",
       "    </tr>\n",
       "  </thead>\n",
       "  <tbody>\n",
       "    <tr>\n",
       "      <th>0</th>\n",
       "      <td>आहे</td>\n",
       "      <td>127801</td>\n",
       "      <td>1</td>\n",
       "    </tr>\n",
       "    <tr>\n",
       "      <th>1</th>\n",
       "      <td>आणि</td>\n",
       "      <td>89856</td>\n",
       "      <td>2</td>\n",
       "    </tr>\n",
       "    <tr>\n",
       "      <th>2</th>\n",
       "      <td>या</td>\n",
       "      <td>85627</td>\n",
       "      <td>3</td>\n",
       "    </tr>\n",
       "    <tr>\n",
       "      <th>3</th>\n",
       "      <td>व</td>\n",
       "      <td>74015</td>\n",
       "      <td>4</td>\n",
       "    </tr>\n",
       "    <tr>\n",
       "      <th>4</th>\n",
       "      <td>हे</td>\n",
       "      <td>63720</td>\n",
       "      <td>5</td>\n",
       "    </tr>\n",
       "  </tbody>\n",
       "</table>\n",
       "</div>"
      ],
      "text/plain": [
       "  terms   count  rank\n",
       "0   आहे  127801     1\n",
       "1   आणि   89856     2\n",
       "2    या   85627     3\n",
       "3     व   74015     4\n",
       "4    हे   63720     5"
      ]
     },
     "execution_count": 89,
     "metadata": {},
     "output_type": "execute_result"
    }
   ],
   "source": [
    "all_freqs_wrds['rank'] = all_freqs_wrds.index + 1\n",
    "all_freqs_wrds.head()"
   ]
  },
  {
   "cell_type": "code",
   "execution_count": 90,
   "metadata": {
    "collapsed": false
   },
   "outputs": [
    {
     "data": {
      "text/html": [
       "<div>\n",
       "<style scoped>\n",
       "    .dataframe tbody tr th:only-of-type {\n",
       "        vertical-align: middle;\n",
       "    }\n",
       "\n",
       "    .dataframe tbody tr th {\n",
       "        vertical-align: top;\n",
       "    }\n",
       "\n",
       "    .dataframe thead th {\n",
       "        text-align: right;\n",
       "    }\n",
       "</style>\n",
       "<table border=\"1\" class=\"dataframe\">\n",
       "  <thead>\n",
       "    <tr style=\"text-align: right;\">\n",
       "      <th></th>\n",
       "      <th>terms</th>\n",
       "      <th>count</th>\n",
       "      <th>rank</th>\n",
       "      <th>zipf</th>\n",
       "    </tr>\n",
       "  </thead>\n",
       "  <tbody>\n",
       "    <tr>\n",
       "      <th>0</th>\n",
       "      <td>आहे</td>\n",
       "      <td>127801</td>\n",
       "      <td>1</td>\n",
       "      <td>1.000000</td>\n",
       "    </tr>\n",
       "    <tr>\n",
       "      <th>1</th>\n",
       "      <td>आणि</td>\n",
       "      <td>89856</td>\n",
       "      <td>2</td>\n",
       "      <td>1.422287</td>\n",
       "    </tr>\n",
       "    <tr>\n",
       "      <th>2</th>\n",
       "      <td>या</td>\n",
       "      <td>85627</td>\n",
       "      <td>3</td>\n",
       "      <td>1.492532</td>\n",
       "    </tr>\n",
       "    <tr>\n",
       "      <th>3</th>\n",
       "      <td>व</td>\n",
       "      <td>74015</td>\n",
       "      <td>4</td>\n",
       "      <td>1.726691</td>\n",
       "    </tr>\n",
       "    <tr>\n",
       "      <th>4</th>\n",
       "      <td>हे</td>\n",
       "      <td>63720</td>\n",
       "      <td>5</td>\n",
       "      <td>2.005665</td>\n",
       "    </tr>\n",
       "  </tbody>\n",
       "</table>\n",
       "</div>"
      ],
      "text/plain": [
       "  terms   count  rank      zipf\n",
       "0   आहे  127801     1  1.000000\n",
       "1   आणि   89856     2  1.422287\n",
       "2    या   85627     3  1.492532\n",
       "3     व   74015     4  1.726691\n",
       "4    हे   63720     5  2.005665"
      ]
     },
     "execution_count": 90,
     "metadata": {},
     "output_type": "execute_result"
    }
   ],
   "source": [
    "all_freqs_wrds['zipf'] = 127801 / all_freqs_wrds['count']\n",
    "all_freqs_wrds.head()"
   ]
  },
  {
   "cell_type": "code",
   "execution_count": 91,
   "metadata": {
    "collapsed": true
   },
   "outputs": [],
   "source": [
    "all_freqs_wrds['check'] = np.log(all_freqs_wrds['rank'])/np.log(all_freqs_wrds['zipf'])"
   ]
  },
  {
   "cell_type": "code",
   "execution_count": 92,
   "metadata": {
    "collapsed": false
   },
   "outputs": [
    {
     "data": {
      "text/html": [
       "<div>\n",
       "<style scoped>\n",
       "    .dataframe tbody tr th:only-of-type {\n",
       "        vertical-align: middle;\n",
       "    }\n",
       "\n",
       "    .dataframe tbody tr th {\n",
       "        vertical-align: top;\n",
       "    }\n",
       "\n",
       "    .dataframe thead th {\n",
       "        text-align: right;\n",
       "    }\n",
       "</style>\n",
       "<table border=\"1\" class=\"dataframe\">\n",
       "  <thead>\n",
       "    <tr style=\"text-align: right;\">\n",
       "      <th></th>\n",
       "      <th>terms</th>\n",
       "      <th>count</th>\n",
       "      <th>rank</th>\n",
       "      <th>zipf</th>\n",
       "      <th>check</th>\n",
       "    </tr>\n",
       "  </thead>\n",
       "  <tbody>\n",
       "    <tr>\n",
       "      <th>0</th>\n",
       "      <td>आहे</td>\n",
       "      <td>127801</td>\n",
       "      <td>1</td>\n",
       "      <td>1.000000</td>\n",
       "      <td>NaN</td>\n",
       "    </tr>\n",
       "    <tr>\n",
       "      <th>1</th>\n",
       "      <td>आणि</td>\n",
       "      <td>89856</td>\n",
       "      <td>2</td>\n",
       "      <td>1.422287</td>\n",
       "      <td>1.967681</td>\n",
       "    </tr>\n",
       "    <tr>\n",
       "      <th>2</th>\n",
       "      <td>या</td>\n",
       "      <td>85627</td>\n",
       "      <td>3</td>\n",
       "      <td>1.492532</td>\n",
       "      <td>2.743282</td>\n",
       "    </tr>\n",
       "    <tr>\n",
       "      <th>3</th>\n",
       "      <td>व</td>\n",
       "      <td>74015</td>\n",
       "      <td>4</td>\n",
       "      <td>1.726691</td>\n",
       "      <td>2.538040</td>\n",
       "    </tr>\n",
       "    <tr>\n",
       "      <th>4</th>\n",
       "      <td>हे</td>\n",
       "      <td>63720</td>\n",
       "      <td>5</td>\n",
       "      <td>2.005665</td>\n",
       "      <td>2.312491</td>\n",
       "    </tr>\n",
       "    <tr>\n",
       "      <th>5</th>\n",
       "      <td>स</td>\n",
       "      <td>59744</td>\n",
       "      <td>6</td>\n",
       "      <td>2.139144</td>\n",
       "      <td>2.356321</td>\n",
       "    </tr>\n",
       "    <tr>\n",
       "      <th>6</th>\n",
       "      <td>इ</td>\n",
       "      <td>58189</td>\n",
       "      <td>7</td>\n",
       "      <td>2.196309</td>\n",
       "      <td>2.473264</td>\n",
       "    </tr>\n",
       "    <tr>\n",
       "      <th>7</th>\n",
       "      <td>हा</td>\n",
       "      <td>43898</td>\n",
       "      <td>8</td>\n",
       "      <td>2.911317</td>\n",
       "      <td>1.945939</td>\n",
       "    </tr>\n",
       "    <tr>\n",
       "      <th>8</th>\n",
       "      <td>एक</td>\n",
       "      <td>42084</td>\n",
       "      <td>9</td>\n",
       "      <td>3.036807</td>\n",
       "      <td>1.978044</td>\n",
       "    </tr>\n",
       "    <tr>\n",
       "      <th>9</th>\n",
       "      <td>पुनर्निर्देशन</td>\n",
       "      <td>41169</td>\n",
       "      <td>10</td>\n",
       "      <td>3.104302</td>\n",
       "      <td>2.032669</td>\n",
       "    </tr>\n",
       "    <tr>\n",
       "      <th>10</th>\n",
       "      <td>आहेत</td>\n",
       "      <td>35065</td>\n",
       "      <td>11</td>\n",
       "      <td>3.644688</td>\n",
       "      <td>1.854132</td>\n",
       "    </tr>\n",
       "    <tr>\n",
       "      <th>11</th>\n",
       "      <td>ते</td>\n",
       "      <td>32051</td>\n",
       "      <td>12</td>\n",
       "      <td>3.987426</td>\n",
       "      <td>1.796561</td>\n",
       "    </tr>\n",
       "    <tr>\n",
       "      <th>12</th>\n",
       "      <td>ही</td>\n",
       "      <td>31999</td>\n",
       "      <td>13</td>\n",
       "      <td>3.993906</td>\n",
       "      <td>1.852257</td>\n",
       "    </tr>\n",
       "    <tr>\n",
       "      <th>13</th>\n",
       "      <td>होते</td>\n",
       "      <td>31982</td>\n",
       "      <td>14</td>\n",
       "      <td>3.996029</td>\n",
       "      <td>1.905042</td>\n",
       "    </tr>\n",
       "    <tr>\n",
       "      <th>14</th>\n",
       "      <td>केले</td>\n",
       "      <td>29212</td>\n",
       "      <td>15</td>\n",
       "      <td>4.374949</td>\n",
       "      <td>1.834853</td>\n",
       "    </tr>\n",
       "    <tr>\n",
       "      <th>15</th>\n",
       "      <td>मध्ये</td>\n",
       "      <td>26785</td>\n",
       "      <td>16</td>\n",
       "      <td>4.771365</td>\n",
       "      <td>1.774307</td>\n",
       "    </tr>\n",
       "    <tr>\n",
       "      <th>16</th>\n",
       "      <td>भारतीय</td>\n",
       "      <td>23660</td>\n",
       "      <td>17</td>\n",
       "      <td>5.401564</td>\n",
       "      <td>1.679749</td>\n",
       "    </tr>\n",
       "    <tr>\n",
       "      <th>17</th>\n",
       "      <td>१</td>\n",
       "      <td>23206</td>\n",
       "      <td>18</td>\n",
       "      <td>5.507240</td>\n",
       "      <td>1.694176</td>\n",
       "    </tr>\n",
       "    <tr>\n",
       "      <th>18</th>\n",
       "      <td>भोपाळ</td>\n",
       "      <td>22820</td>\n",
       "      <td>19</td>\n",
       "      <td>5.600394</td>\n",
       "      <td>1.709064</td>\n",
       "    </tr>\n",
       "    <tr>\n",
       "      <th>19</th>\n",
       "      <td>मराठी</td>\n",
       "      <td>21488</td>\n",
       "      <td>20</td>\n",
       "      <td>5.947552</td>\n",
       "      <td>1.680183</td>\n",
       "    </tr>\n",
       "  </tbody>\n",
       "</table>\n",
       "</div>"
      ],
      "text/plain": [
       "            terms   count  rank      zipf     check\n",
       "0             आहे  127801     1  1.000000       NaN\n",
       "1             आणि   89856     2  1.422287  1.967681\n",
       "2              या   85627     3  1.492532  2.743282\n",
       "3               व   74015     4  1.726691  2.538040\n",
       "4              हे   63720     5  2.005665  2.312491\n",
       "5               स   59744     6  2.139144  2.356321\n",
       "6               इ   58189     7  2.196309  2.473264\n",
       "7              हा   43898     8  2.911317  1.945939\n",
       "8              एक   42084     9  3.036807  1.978044\n",
       "9   पुनर्निर्देशन   41169    10  3.104302  2.032669\n",
       "10           आहेत   35065    11  3.644688  1.854132\n",
       "11             ते   32051    12  3.987426  1.796561\n",
       "12             ही   31999    13  3.993906  1.852257\n",
       "13           होते   31982    14  3.996029  1.905042\n",
       "14           केले   29212    15  4.374949  1.834853\n",
       "15          मध्ये   26785    16  4.771365  1.774307\n",
       "16         भारतीय   23660    17  5.401564  1.679749\n",
       "17              १   23206    18  5.507240  1.694176\n",
       "18          भोपाळ   22820    19  5.600394  1.709064\n",
       "19          मराठी   21488    20  5.947552  1.680183"
      ]
     },
     "execution_count": 92,
     "metadata": {},
     "output_type": "execute_result"
    }
   ],
   "source": [
    "all_freqs_wrds.head(20)"
   ]
  },
  {
   "cell_type": "code",
   "execution_count": 93,
   "metadata": {
    "collapsed": false
   },
   "outputs": [
    {
     "data": {
      "text/plain": [
       "[1.0433867108789419, 1.1051305649221752, 2.74328190321641]"
      ]
     },
     "execution_count": 93,
     "metadata": {},
     "output_type": "execute_result"
    }
   ],
   "source": [
    "[np.nanmin(all_freqs_wrds['check']), np.mean(all_freqs_wrds['check']), np.nanmax(all_freqs_wrds['check'])]"
   ]
  },
  {
   "cell_type": "code",
   "execution_count": 94,
   "metadata": {
    "collapsed": false
   },
   "outputs": [
    {
     "data": {
      "text/html": [
       "<div>\n",
       "<style scoped>\n",
       "    .dataframe tbody tr th:only-of-type {\n",
       "        vertical-align: middle;\n",
       "    }\n",
       "\n",
       "    .dataframe tbody tr th {\n",
       "        vertical-align: top;\n",
       "    }\n",
       "\n",
       "    .dataframe thead th {\n",
       "        text-align: right;\n",
       "    }\n",
       "</style>\n",
       "<table border=\"1\" class=\"dataframe\">\n",
       "  <thead>\n",
       "    <tr style=\"text-align: right;\">\n",
       "      <th></th>\n",
       "      <th>terms</th>\n",
       "      <th>count</th>\n",
       "      <th>rank</th>\n",
       "      <th>zipf</th>\n",
       "      <th>check</th>\n",
       "      <th>check2</th>\n",
       "      <th>check3</th>\n",
       "    </tr>\n",
       "  </thead>\n",
       "  <tbody>\n",
       "    <tr>\n",
       "      <th>0</th>\n",
       "      <td>आहे</td>\n",
       "      <td>127801</td>\n",
       "      <td>1</td>\n",
       "      <td>1.000000</td>\n",
       "      <td>NaN</td>\n",
       "      <td>1.000000</td>\n",
       "      <td>1.0</td>\n",
       "    </tr>\n",
       "    <tr>\n",
       "      <th>1</th>\n",
       "      <td>आणि</td>\n",
       "      <td>89856</td>\n",
       "      <td>2</td>\n",
       "      <td>1.422287</td>\n",
       "      <td>1.967681</td>\n",
       "      <td>1.395567</td>\n",
       "      <td>2.0</td>\n",
       "    </tr>\n",
       "    <tr>\n",
       "      <th>2</th>\n",
       "      <td>या</td>\n",
       "      <td>85627</td>\n",
       "      <td>3</td>\n",
       "      <td>1.492532</td>\n",
       "      <td>2.743282</td>\n",
       "      <td>1.460696</td>\n",
       "      <td>2.0</td>\n",
       "    </tr>\n",
       "    <tr>\n",
       "      <th>3</th>\n",
       "      <td>व</td>\n",
       "      <td>74015</td>\n",
       "      <td>4</td>\n",
       "      <td>1.726691</td>\n",
       "      <td>2.538040</td>\n",
       "      <td>1.676654</td>\n",
       "      <td>2.0</td>\n",
       "    </tr>\n",
       "    <tr>\n",
       "      <th>4</th>\n",
       "      <td>हे</td>\n",
       "      <td>63720</td>\n",
       "      <td>5</td>\n",
       "      <td>2.005665</td>\n",
       "      <td>2.312491</td>\n",
       "      <td>1.931904</td>\n",
       "      <td>2.0</td>\n",
       "    </tr>\n",
       "    <tr>\n",
       "      <th>5</th>\n",
       "      <td>स</td>\n",
       "      <td>59744</td>\n",
       "      <td>6</td>\n",
       "      <td>2.139144</td>\n",
       "      <td>2.356321</td>\n",
       "      <td>2.053339</td>\n",
       "      <td>3.0</td>\n",
       "    </tr>\n",
       "    <tr>\n",
       "      <th>6</th>\n",
       "      <td>इ</td>\n",
       "      <td>58189</td>\n",
       "      <td>7</td>\n",
       "      <td>2.196309</td>\n",
       "      <td>2.473264</td>\n",
       "      <td>2.105220</td>\n",
       "      <td>3.0</td>\n",
       "    </tr>\n",
       "    <tr>\n",
       "      <th>7</th>\n",
       "      <td>हा</td>\n",
       "      <td>43898</td>\n",
       "      <td>8</td>\n",
       "      <td>2.911317</td>\n",
       "      <td>1.945939</td>\n",
       "      <td>2.748553</td>\n",
       "      <td>3.0</td>\n",
       "    </tr>\n",
       "    <tr>\n",
       "      <th>8</th>\n",
       "      <td>एक</td>\n",
       "      <td>42084</td>\n",
       "      <td>9</td>\n",
       "      <td>3.036807</td>\n",
       "      <td>1.978044</td>\n",
       "      <td>2.860521</td>\n",
       "      <td>3.0</td>\n",
       "    </tr>\n",
       "    <tr>\n",
       "      <th>9</th>\n",
       "      <td>पुनर्निर्देशन</td>\n",
       "      <td>41169</td>\n",
       "      <td>10</td>\n",
       "      <td>3.104302</td>\n",
       "      <td>2.032669</td>\n",
       "      <td>2.920638</td>\n",
       "      <td>3.0</td>\n",
       "    </tr>\n",
       "  </tbody>\n",
       "</table>\n",
       "</div>"
      ],
      "text/plain": [
       "           terms   count  rank      zipf     check    check2  check3\n",
       "0            आहे  127801     1  1.000000       NaN  1.000000     1.0\n",
       "1            आणि   89856     2  1.422287  1.967681  1.395567     2.0\n",
       "2             या   85627     3  1.492532  2.743282  1.460696     2.0\n",
       "3              व   74015     4  1.726691  2.538040  1.676654     2.0\n",
       "4             हे   63720     5  2.005665  2.312491  1.931904     2.0\n",
       "5              स   59744     6  2.139144  2.356321  2.053339     3.0\n",
       "6              इ   58189     7  2.196309  2.473264  2.105220     3.0\n",
       "7             हा   43898     8  2.911317  1.945939  2.748553     3.0\n",
       "8             एक   42084     9  3.036807  1.978044  2.860521     3.0\n",
       "9  पुनर्निर्देशन   41169    10  3.104302  2.032669  2.920638     3.0"
      ]
     },
     "execution_count": 94,
     "metadata": {},
     "output_type": "execute_result"
    }
   ],
   "source": [
    "all_freqs_wrds['check2'] = all_freqs_wrds['zipf']**(1/1.0569009843256845)\n",
    "all_freqs_wrds['check3'] = np.ceil(all_freqs_wrds['check2'])\n",
    "all_freqs_wrds.head(10)"
   ]
  },
  {
   "cell_type": "code",
   "execution_count": 95,
   "metadata": {
    "collapsed": false
   },
   "outputs": [
    {
     "data": {
      "text/html": [
       "<div>\n",
       "<style scoped>\n",
       "    .dataframe tbody tr th:only-of-type {\n",
       "        vertical-align: middle;\n",
       "    }\n",
       "\n",
       "    .dataframe tbody tr th {\n",
       "        vertical-align: top;\n",
       "    }\n",
       "\n",
       "    .dataframe thead th {\n",
       "        text-align: right;\n",
       "    }\n",
       "</style>\n",
       "<table border=\"1\" class=\"dataframe\">\n",
       "  <thead>\n",
       "    <tr style=\"text-align: right;\">\n",
       "      <th></th>\n",
       "      <th>terms</th>\n",
       "      <th>count</th>\n",
       "      <th>rank</th>\n",
       "      <th>zipf</th>\n",
       "      <th>check</th>\n",
       "      <th>check2</th>\n",
       "      <th>check3</th>\n",
       "    </tr>\n",
       "  </thead>\n",
       "  <tbody>\n",
       "    <tr>\n",
       "      <th>494580</th>\n",
       "      <td>क्रिकेटसारख्या</td>\n",
       "      <td>1</td>\n",
       "      <td>494581</td>\n",
       "      <td>127801.0</td>\n",
       "      <td>1.115088</td>\n",
       "      <td>67859.528756</td>\n",
       "      <td>67860.0</td>\n",
       "    </tr>\n",
       "    <tr>\n",
       "      <th>494581</th>\n",
       "      <td>लंडसेटने</td>\n",
       "      <td>1</td>\n",
       "      <td>494582</td>\n",
       "      <td>127801.0</td>\n",
       "      <td>1.115089</td>\n",
       "      <td>67859.528756</td>\n",
       "      <td>67860.0</td>\n",
       "    </tr>\n",
       "    <tr>\n",
       "      <th>494582</th>\n",
       "      <td>प्रवासवर्णनाला</td>\n",
       "      <td>1</td>\n",
       "      <td>494583</td>\n",
       "      <td>127801.0</td>\n",
       "      <td>1.115089</td>\n",
       "      <td>67859.528756</td>\n",
       "      <td>67860.0</td>\n",
       "    </tr>\n",
       "    <tr>\n",
       "      <th>494583</th>\n",
       "      <td>सूचनेकडे</td>\n",
       "      <td>1</td>\n",
       "      <td>494584</td>\n",
       "      <td>127801.0</td>\n",
       "      <td>1.115089</td>\n",
       "      <td>67859.528756</td>\n",
       "      <td>67860.0</td>\n",
       "    </tr>\n",
       "    <tr>\n",
       "      <th>494584</th>\n",
       "      <td>कोंकणातील</td>\n",
       "      <td>1</td>\n",
       "      <td>494585</td>\n",
       "      <td>127801.0</td>\n",
       "      <td>1.115089</td>\n",
       "      <td>67859.528756</td>\n",
       "      <td>67860.0</td>\n",
       "    </tr>\n",
       "    <tr>\n",
       "      <th>494585</th>\n",
       "      <td>वैद्यकशास्त्राचे</td>\n",
       "      <td>1</td>\n",
       "      <td>494586</td>\n",
       "      <td>127801.0</td>\n",
       "      <td>1.115089</td>\n",
       "      <td>67859.528756</td>\n",
       "      <td>67860.0</td>\n",
       "    </tr>\n",
       "    <tr>\n",
       "      <th>494586</th>\n",
       "      <td>जनगणनेसारखे</td>\n",
       "      <td>1</td>\n",
       "      <td>494587</td>\n",
       "      <td>127801.0</td>\n",
       "      <td>1.115089</td>\n",
       "      <td>67859.528756</td>\n",
       "      <td>67860.0</td>\n",
       "    </tr>\n",
       "    <tr>\n",
       "      <th>494587</th>\n",
       "      <td>शिवबाच्या</td>\n",
       "      <td>1</td>\n",
       "      <td>494588</td>\n",
       "      <td>127801.0</td>\n",
       "      <td>1.115090</td>\n",
       "      <td>67859.528756</td>\n",
       "      <td>67860.0</td>\n",
       "    </tr>\n",
       "    <tr>\n",
       "      <th>494588</th>\n",
       "      <td>सैगल४९</td>\n",
       "      <td>1</td>\n",
       "      <td>494589</td>\n",
       "      <td>127801.0</td>\n",
       "      <td>1.115090</td>\n",
       "      <td>67859.528756</td>\n",
       "      <td>67860.0</td>\n",
       "    </tr>\n",
       "    <tr>\n",
       "      <th>494589</th>\n",
       "      <td>गमावशील</td>\n",
       "      <td>1</td>\n",
       "      <td>494590</td>\n",
       "      <td>127801.0</td>\n",
       "      <td>1.115090</td>\n",
       "      <td>67859.528756</td>\n",
       "      <td>67860.0</td>\n",
       "    </tr>\n",
       "  </tbody>\n",
       "</table>\n",
       "</div>"
      ],
      "text/plain": [
       "                   terms  count    rank      zipf     check        check2  \\\n",
       "494580    क्रिकेटसारख्या      1  494581  127801.0  1.115088  67859.528756   \n",
       "494581          लंडसेटने      1  494582  127801.0  1.115089  67859.528756   \n",
       "494582    प्रवासवर्णनाला      1  494583  127801.0  1.115089  67859.528756   \n",
       "494583          सूचनेकडे      1  494584  127801.0  1.115089  67859.528756   \n",
       "494584         कोंकणातील      1  494585  127801.0  1.115089  67859.528756   \n",
       "494585  वैद्यकशास्त्राचे      1  494586  127801.0  1.115089  67859.528756   \n",
       "494586       जनगणनेसारखे      1  494587  127801.0  1.115089  67859.528756   \n",
       "494587         शिवबाच्या      1  494588  127801.0  1.115090  67859.528756   \n",
       "494588            सैगल४९      1  494589  127801.0  1.115090  67859.528756   \n",
       "494589           गमावशील      1  494590  127801.0  1.115090  67859.528756   \n",
       "\n",
       "         check3  \n",
       "494580  67860.0  \n",
       "494581  67860.0  \n",
       "494582  67860.0  \n",
       "494583  67860.0  \n",
       "494584  67860.0  \n",
       "494585  67860.0  \n",
       "494586  67860.0  \n",
       "494587  67860.0  \n",
       "494588  67860.0  \n",
       "494589  67860.0  "
      ]
     },
     "execution_count": 95,
     "metadata": {},
     "output_type": "execute_result"
    }
   ],
   "source": [
    "all_freqs_wrds.tail(10)"
   ]
  },
  {
   "cell_type": "code",
   "execution_count": 96,
   "metadata": {
    "collapsed": false
   },
   "outputs": [
    {
     "name": "stdout",
     "output_type": "stream",
     "text": [
      "8483808\n"
     ]
    }
   ],
   "source": [
    "tokens = len(words)\n",
    "print(tokens)"
   ]
  },
  {
   "cell_type": "code",
   "execution_count": 97,
   "metadata": {
    "collapsed": false
   },
   "outputs": [
    {
     "name": "stdout",
     "output_type": "stream",
     "text": [
      "494590\n"
     ]
    }
   ],
   "source": [
    "type = len(uni_words)\n",
    "print(type)"
   ]
  },
  {
   "cell_type": "code",
   "execution_count": 98,
   "metadata": {
    "collapsed": false
   },
   "outputs": [
    {
     "data": {
      "text/plain": [
       "<matplotlib.text.Text at 0x183e608c048>"
      ]
     },
     "execution_count": 98,
     "metadata": {},
     "output_type": "execute_result"
    }
   ],
   "source": [
    "import matplotlib.pyplot as plt\n",
    "\n",
    "y_pos = np.arange(500)\n",
    "plt.figure(figsize=(10,8))\n",
    "s = 1\n",
    "expected_zipf = [all_freqs_wrds.sort_values(by='count', ascending=False)['count'][0]/(i+1)**s for i in y_pos]\n",
    "plt.bar(y_pos, all_freqs_wrds.sort_values(by='count', ascending=False)['count'][:500], align='center', alpha=0.5)\n",
    "plt.plot(y_pos, expected_zipf, color='r', linestyle='--',linewidth=2,alpha=0.5)\n",
    "plt.ylabel('Frequency')\n",
    "plt.title('Top 500 tokens')"
   ]
  },
  {
   "cell_type": "code",
   "execution_count": 99,
   "metadata": {
    "collapsed": false
   },
   "outputs": [
    {
     "data": {
      "image/png": "[encoded data removed]",
      "text/plain": [
       "<matplotlib.figure.Figure at 0x183e776b588>"
      ]
     },
     "metadata": {},
     "output_type": "display_data"
    }
   ],
   "source": [
    "plt.show()"
   ]
  },
  {
   "cell_type": "code",
   "execution_count": 100,
   "metadata": {
    "collapsed": false
   },
   "outputs": [],
   "source": [
    "from pylab import *\n",
    "counts = all_freqs_wrds['count']\n",
    "tokens = all_freqs_wrds.index\n",
    "ranks = all_freqs_wrds['rank']\n",
    "indices = argsort(-counts)\n",
    "frequencies = counts[indices]\n",
    "plt.figure(figsize=(8,6))\n",
    "plt.ylim(1,10**6)\n",
    "plt.xlim(1,10**6)\n",
    "loglog(ranks, frequencies, marker=\".\")\n",
    "plt.plot([1,frequencies[0]],[frequencies[0],1],color='r')\n",
    "title(\"Zipf plot\")\n",
    "xlabel(\"Frequency rank of token\")\n",
    "ylabel(\"Absolute frequency of token\")\n",
    "grid(True)"
   ]
  },
  {
   "cell_type": "code",
   "execution_count": 101,
   "metadata": {
    "collapsed": false
   },
   "outputs": [
    {
     "data": {
      "image/png": "[encoded data removed]",
      "text/plain": [
       "<matplotlib.figure.Figure at 0x183e6406d68>"
      ]
     },
     "metadata": {},
     "output_type": "display_data"
    }
   ],
   "source": [
    "plt.show()"
   ]
  },
  {
   "cell_type": "code",
   "execution_count": 102,
   "metadata": {
    "collapsed": false
   },
   "outputs": [
    {
     "data": {
      "image/png": "[encoded data removed]",
      "text/plain": [
       "<matplotlib.figure.Figure at 0x183ad3f4470>"
      ]
     },
     "metadata": {},
     "output_type": "display_data"
    }
   ],
   "source": [
    "plt.scatter(x= 1/all_freqs_wrds['rank'][500:300000], y = all_freqs_wrds['count'][500:300000])\n",
    "plt.show()"
   ]
  }
 ],
 "metadata": {
  "anaconda-cloud": {},
  "kernelspec": {
   "display_name": "Python [conda env:Anaconda3]",
   "language": "python",
   "name": "conda-env-Anaconda3-py"
  },
  "language_info": {
   "codemirror_mode": {
    "name": "ipython",
    "version": 3
   },
   "file_extension": ".py",
   "mimetype": "text/x-python",
   "name": "python",
   "nbconvert_exporter": "python",
   "pygments_lexer": "ipython3",
   "version": "3.5.6"
  }
 },
 "nbformat": 4,
 "nbformat_minor": 1
}
